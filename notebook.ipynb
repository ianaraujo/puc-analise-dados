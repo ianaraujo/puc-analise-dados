{
 "cells": [
  {
   "cell_type": "markdown",
   "metadata": {},
   "source": [
    "# Estratégia de Dual Momentum"
   ]
  },
  {
   "cell_type": "markdown",
   "metadata": {},
   "source": [
    "As estretégias de \"momentum\" em investimentos consistem na noção que ativos com retornos positivos tendem a se manter valorizando, enquanto ativos com retornos fraco ou negativos, tendem a continuar na mesma trajetória.\n",
    "\n",
    "No início das pesquisas academicas de finanças, a ideia de \"momentum\" não era bem aceita, pois imperavam noções muito estabelecidas, como a hipóstese do \"Mercado Eficiente\" e da imprevisibilidade de retornos futuros.\n",
    "\n",
    "No entanto, no início da década de 70, com os descobrimento do conceito de \"finanças comportamentais\" e de outros *fatores* que explicavam retornos, como valor e tamanho, as estratégias de momentum ganharam força."
   ]
  },
  {
   "cell_type": "markdown",
   "metadata": {},
   "source": [
    "### Objetivo"
   ]
  },
  {
   "cell_type": "markdown",
   "metadata": {},
   "source": [
    "O objetivo deste estudo é testar uma estratégia chamada de \"dual momentum\", que combina dois tipos de momentum *absolute momentum* e *relative momentum*. O momentum absoluto alterna entre classes de ativos distintas, por exemplo bolsa brasileira e título públicos, escolhendo a classe com maior força relativa. Já o momentum relativo, comparada dois ativos dentro da mesma classe, por exemplo bolsa brasileira e bolsa america. \n",
    "\n",
    "O resultado esperado é a construção de um portfolio que gere alpha em relação ao índice de referência, com menor volatilidade. A premissa do Dual Momentum é que é possível participar do mercado em momentos de bull market e evitar grandes perdas em longos momentos de bear market, investindo em ativos de renda fixa."
   ]
  },
  {
   "cell_type": "markdown",
   "metadata": {},
   "source": [
    "### Definição do Problema"
   ]
  },
  {
   "cell_type": "markdown",
   "metadata": {},
   "source": [
    "Para atingir os objetivos descritos, vamos selecionar o seguintes ativos:\n",
    "\n",
    "- IBOV (bolsa brasileira)\n",
    "- S&P 500 em BRL (bolsa americana em dólar)\n",
    "- IMA-B 5 (títulos públicos indexados ao IPCA com prazo de até 5 anos)\n",
    "- CDI (taxa livre de risco)\n",
    "\n",
    "A estratégia consiste em verificar qual ativo apresentou o maior retorno nos últimos 12 meses, investir nesse ativo, e rebalancear mensalmente. Para isso é necessário obter a série temporal do preço de fechamento diário desses ativos e fazer os processos necessário de processamento de dados para gerar os sinais e estimar a eficácia da estratégia. O nome de processo é **backtest**.\n",
    "\n",
    "Esse processo em si não representa um problema de *machine learning*. No entanto, um objetivo futuro é conseguir estimar a variância e a volatilidade dos ativos para equilibrar o portfolio e reduzuir grandes drawdowns, conhecidos na literatura como \"momentum crashes\". Nesse próximo passo,  "
   ]
  },
  {
   "cell_type": "code",
   "execution_count": 1,
   "metadata": {},
   "outputs": [],
   "source": [
    "\n",
    "import pandas as pd\n",
    "import numpy as np\n",
    "from datetime import datetime\n",
    "\n",
    "import matplotlib.pyplot as plt\n",
    "import seaborn as sns\n",
    "\n",
    "import yfinance as yf\n",
    "\n",
    "from utils.prices import historic_imab5, historic_sp500, historic_cdi\n",
    "\n",
    "STAR_DATE = '2004-01-01'\n",
    "END_DATE = datetime.today().strftime('%Y-%m-%d')"
   ]
  },
  {
   "cell_type": "markdown",
   "metadata": {},
   "source": [
    "#### Importando os dados"
   ]
  },
  {
   "cell_type": "code",
   "execution_count": 2,
   "metadata": {},
   "outputs": [],
   "source": [
    "IBOV = yf.Ticker('^BVSP')\n",
    "ibov_prices = IBOV.history(start=STAR_DATE, end=END_DATE)['Close']\n",
    "ibov_prices.index = pd.to_datetime(ibov_prices.index).date"
   ]
  },
  {
   "cell_type": "code",
   "execution_count": 3,
   "metadata": {},
   "outputs": [],
   "source": [
    "cdi = historic_cdi(start=STAR_DATE, end=END_DATE)\n",
    "imab5 = historic_imab5(start=STAR_DATE, end=END_DATE)"
   ]
  },
  {
   "cell_type": "code",
   "execution_count": 4,
   "metadata": {},
   "outputs": [
    {
     "name": "stdout",
     "output_type": "stream",
     "text": [
      "       paridadeCompra  paridadeVenda  cotacaoCompra  cotacaoVenda  \\\n",
      "0                 1.0            1.0         2.8840        2.8940   \n",
      "1                 1.0            1.0         2.8880        2.8900   \n",
      "2                 1.0            1.0         2.8900        2.8930   \n",
      "3                 1.0            1.0         2.8930        2.8960   \n",
      "4                 1.0            1.0         2.8930        2.8950   \n",
      "...               ...            ...            ...           ...   \n",
      "46656             1.0            1.0         5.5575        5.5581   \n",
      "46657             1.0            1.0         5.5083        5.5089   \n",
      "46658             1.0            1.0         5.5034        5.5040   \n",
      "46659             1.0            1.0         5.5110        5.5116   \n",
      "46660             1.0            1.0         5.5201        5.5207   \n",
      "\n",
      "              dataHoraCotacao    tipoBoletim  \n",
      "0     2004-01-02 09:50:00.000       Abertura  \n",
      "1     2004-01-02 10:00:00.000  Intermediário  \n",
      "2     2004-01-02 10:30:00.000  Intermediário  \n",
      "3     2004-01-02 11:00:00.000  Intermediário  \n",
      "4     2004-01-02 11:30:00.000  Intermediário  \n",
      "...                       ...            ...  \n",
      "46656 2024-09-16 10:05:28.825       Abertura  \n",
      "46657 2024-09-16 11:09:28.667  Intermediário  \n",
      "46658 2024-09-16 12:10:26.907  Intermediário  \n",
      "46659 2024-09-16 13:02:31.586  Intermediário  \n",
      "46660 2024-09-16 13:02:31.597     Fechamento  \n",
      "\n",
      "[46661 rows x 6 columns]\n"
     ]
    }
   ],
   "source": [
    "sp500_prices = historic_sp500(start=STAR_DATE, end=END_DATE, brl=True)"
   ]
  },
  {
   "cell_type": "markdown",
   "metadata": {},
   "source": [
    "#### Obtendo os dias de negociação dos ativos de risco"
   ]
  },
  {
   "cell_type": "markdown",
   "metadata": {},
   "source": [
    "Esses dias serão utilizado para normalizar as demais séries temporais com objetivo de padronizar a janela de análise e tratar valores faltantes (NAs)."
   ]
  },
  {
   "cell_type": "code",
   "execution_count": 5,
   "metadata": {},
   "outputs": [
    {
     "data": {
      "text/html": [
       "<div>\n",
       "<style scoped>\n",
       "    .dataframe tbody tr th:only-of-type {\n",
       "        vertical-align: middle;\n",
       "    }\n",
       "\n",
       "    .dataframe tbody tr th {\n",
       "        vertical-align: top;\n",
       "    }\n",
       "\n",
       "    .dataframe thead th {\n",
       "        text-align: right;\n",
       "    }\n",
       "</style>\n",
       "<table border=\"1\" class=\"dataframe\">\n",
       "  <thead>\n",
       "    <tr style=\"text-align: right;\">\n",
       "      <th></th>\n",
       "      <th>Date</th>\n",
       "    </tr>\n",
       "  </thead>\n",
       "  <tbody>\n",
       "    <tr>\n",
       "      <th>5118</th>\n",
       "      <td>2024-09-03</td>\n",
       "    </tr>\n",
       "    <tr>\n",
       "      <th>5119</th>\n",
       "      <td>2024-09-04</td>\n",
       "    </tr>\n",
       "    <tr>\n",
       "      <th>5120</th>\n",
       "      <td>2024-09-05</td>\n",
       "    </tr>\n",
       "    <tr>\n",
       "      <th>5121</th>\n",
       "      <td>2024-09-06</td>\n",
       "    </tr>\n",
       "    <tr>\n",
       "      <th>5122</th>\n",
       "      <td>2024-09-09</td>\n",
       "    </tr>\n",
       "    <tr>\n",
       "      <th>5123</th>\n",
       "      <td>2024-09-10</td>\n",
       "    </tr>\n",
       "    <tr>\n",
       "      <th>5124</th>\n",
       "      <td>2024-09-11</td>\n",
       "    </tr>\n",
       "    <tr>\n",
       "      <th>5125</th>\n",
       "      <td>2024-09-12</td>\n",
       "    </tr>\n",
       "    <tr>\n",
       "      <th>5126</th>\n",
       "      <td>2024-09-13</td>\n",
       "    </tr>\n",
       "    <tr>\n",
       "      <th>5127</th>\n",
       "      <td>2024-09-16</td>\n",
       "    </tr>\n",
       "  </tbody>\n",
       "</table>\n",
       "</div>"
      ],
      "text/plain": [
       "            Date\n",
       "5118  2024-09-03\n",
       "5119  2024-09-04\n",
       "5120  2024-09-05\n",
       "5121  2024-09-06\n",
       "5122  2024-09-09\n",
       "5123  2024-09-10\n",
       "5124  2024-09-11\n",
       "5125  2024-09-12\n",
       "5126  2024-09-13\n",
       "5127  2024-09-16"
      ]
     },
     "execution_count": 5,
     "metadata": {},
     "output_type": "execute_result"
    }
   ],
   "source": [
    "trading_days = ibov_prices.index.to_frame(index=False, name='Date')\n",
    "\n",
    "trading_days.tail(10)"
   ]
  },
  {
   "cell_type": "markdown",
   "metadata": {},
   "source": [
    "#### Normalizando as séries temporais"
   ]
  },
  {
   "cell_type": "code",
   "execution_count": 6,
   "metadata": {},
   "outputs": [],
   "source": [
    "cdi_normalized = pd.merge(trading_days, cdi, left_on='Date', right_index=True, how='left').set_index('Date').squeeze()\n",
    "imab5_normalized = pd.merge(trading_days, imab5, left_on='Date', right_index=True, how='left').set_index('Date').squeeze()"
   ]
  },
  {
   "cell_type": "code",
   "execution_count": 7,
   "metadata": {},
   "outputs": [],
   "source": [
    "relative_prices = pd.merge(ibov_prices, sp500_prices, left_index=True, right_index=True, how='left').set_axis(['IBOV', 'SP500 BRL'], axis=1)\n",
    "relative_prices = relative_prices.set_axis(['IBOV', 'SP500 BRL'], axis=1)"
   ]
  },
  {
   "cell_type": "code",
   "execution_count": 8,
   "metadata": {},
   "outputs": [
    {
     "name": "stdout",
     "output_type": "stream",
     "text": [
      "IBOV\n",
      "False    5128\n",
      "Name: count, dtype: int64\n",
      "SP500 BRL\n",
      "False    4997\n",
      "True      131\n",
      "Name: count, dtype: int64\n"
     ]
    }
   ],
   "source": [
    "print(relative_prices['IBOV'].isna().value_counts())\n",
    "print(relative_prices['SP500 BRL'].isna().value_counts())"
   ]
  },
  {
   "cell_type": "markdown",
   "metadata": {},
   "source": [
    "Podemos observar que a série temporal de S&P 500 em reais possui 131 \"dias\" faltantes. Não é um número expressivo de NAs e pode ser explicado pela incompatibilidade de dias de negociação no Brasil e nos EUA, devido a feriados e outros casos.\n",
    "\n",
    "Para tratar esses valores faltantes podemos utilizar o métodos `ffill()` do Pandas. Esse método preenche o valor NA com o valor não-nulo anterior mais próximo. Esse tratamento é satisfatório pois não representará grandes impactos em nossas análise."
   ]
  },
  {
   "cell_type": "code",
   "execution_count": 9,
   "metadata": {},
   "outputs": [
    {
     "name": "stdout",
     "output_type": "stream",
     "text": [
      "SP500 BRL\n",
      "False    5128\n",
      "Name: count, dtype: int64\n"
     ]
    }
   ],
   "source": [
    "relative_prices['SP500 BRL'] = relative_prices['SP500 BRL'].ffill()\n",
    "\n",
    "print(relative_prices['SP500 BRL'].isna().value_counts())"
   ]
  },
  {
   "cell_type": "markdown",
   "metadata": {},
   "source": [
    "#### Tabela principal de preços"
   ]
  },
  {
   "cell_type": "code",
   "execution_count": 11,
   "metadata": {},
   "outputs": [
    {
     "data": {
      "text/html": [
       "<div>\n",
       "<style scoped>\n",
       "    .dataframe tbody tr th:only-of-type {\n",
       "        vertical-align: middle;\n",
       "    }\n",
       "\n",
       "    .dataframe tbody tr th {\n",
       "        vertical-align: top;\n",
       "    }\n",
       "\n",
       "    .dataframe thead th {\n",
       "        text-align: right;\n",
       "    }\n",
       "</style>\n",
       "<table border=\"1\" class=\"dataframe\">\n",
       "  <thead>\n",
       "    <tr style=\"text-align: right;\">\n",
       "      <th></th>\n",
       "      <th>CDI</th>\n",
       "      <th>IMA-B 5</th>\n",
       "      <th>IBOV</th>\n",
       "      <th>SP500 BRL</th>\n",
       "    </tr>\n",
       "  </thead>\n",
       "  <tbody>\n",
       "    <tr>\n",
       "      <th>2004-01-02</th>\n",
       "      <td>1.000000</td>\n",
       "      <td>1.000000</td>\n",
       "      <td>22445.0</td>\n",
       "      <td>3199.294920</td>\n",
       "    </tr>\n",
       "    <tr>\n",
       "      <th>2004-01-05</th>\n",
       "      <td>1.000601</td>\n",
       "      <td>1.000576</td>\n",
       "      <td>23532.0</td>\n",
       "      <td>3212.579110</td>\n",
       "    </tr>\n",
       "    <tr>\n",
       "      <th>2004-01-06</th>\n",
       "      <td>1.001202</td>\n",
       "      <td>1.001922</td>\n",
       "      <td>23576.0</td>\n",
       "      <td>3203.358561</td>\n",
       "    </tr>\n",
       "    <tr>\n",
       "      <th>2004-01-07</th>\n",
       "      <td>1.001803</td>\n",
       "      <td>1.003517</td>\n",
       "      <td>23320.0</td>\n",
       "      <td>3235.157533</td>\n",
       "    </tr>\n",
       "    <tr>\n",
       "      <th>2004-01-08</th>\n",
       "      <td>1.002405</td>\n",
       "      <td>1.007081</td>\n",
       "      <td>23717.0</td>\n",
       "      <td>3235.933022</td>\n",
       "    </tr>\n",
       "    <tr>\n",
       "      <th>...</th>\n",
       "      <td>...</td>\n",
       "      <td>...</td>\n",
       "      <td>...</td>\n",
       "      <td>...</td>\n",
       "    </tr>\n",
       "    <tr>\n",
       "      <th>2024-09-10</th>\n",
       "      <td>8.234794</td>\n",
       "      <td>11.287701</td>\n",
       "      <td>134320.0</td>\n",
       "      <td>30914.498318</td>\n",
       "    </tr>\n",
       "    <tr>\n",
       "      <th>2024-09-11</th>\n",
       "      <td>8.238027</td>\n",
       "      <td>11.298682</td>\n",
       "      <td>134677.0</td>\n",
       "      <td>31318.072170</td>\n",
       "    </tr>\n",
       "    <tr>\n",
       "      <th>2024-09-12</th>\n",
       "      <td>8.241263</td>\n",
       "      <td>11.290110</td>\n",
       "      <td>134029.0</td>\n",
       "      <td>31646.259779</td>\n",
       "    </tr>\n",
       "    <tr>\n",
       "      <th>2024-09-13</th>\n",
       "      <td>8.244499</td>\n",
       "      <td>11.302452</td>\n",
       "      <td>134882.0</td>\n",
       "      <td>31346.495743</td>\n",
       "    </tr>\n",
       "    <tr>\n",
       "      <th>2024-09-16</th>\n",
       "      <td>8.247736</td>\n",
       "      <td>11.300680</td>\n",
       "      <td>135118.0</td>\n",
       "      <td>31098.599100</td>\n",
       "    </tr>\n",
       "  </tbody>\n",
       "</table>\n",
       "<p>5128 rows × 4 columns</p>\n",
       "</div>"
      ],
      "text/plain": [
       "                 CDI    IMA-B 5      IBOV     SP500 BRL\n",
       "2004-01-02  1.000000   1.000000   22445.0   3199.294920\n",
       "2004-01-05  1.000601   1.000576   23532.0   3212.579110\n",
       "2004-01-06  1.001202   1.001922   23576.0   3203.358561\n",
       "2004-01-07  1.001803   1.003517   23320.0   3235.157533\n",
       "2004-01-08  1.002405   1.007081   23717.0   3235.933022\n",
       "...              ...        ...       ...           ...\n",
       "2024-09-10  8.234794  11.287701  134320.0  30914.498318\n",
       "2024-09-11  8.238027  11.298682  134677.0  31318.072170\n",
       "2024-09-12  8.241263  11.290110  134029.0  31646.259779\n",
       "2024-09-13  8.244499  11.302452  134882.0  31346.495743\n",
       "2024-09-16  8.247736  11.300680  135118.0  31098.599100\n",
       "\n",
       "[5128 rows x 4 columns]"
      ]
     },
     "execution_count": 11,
     "metadata": {},
     "output_type": "execute_result"
    }
   ],
   "source": [
    "ativos = ['CDI', 'IMA-B 5', 'IBOV', 'SP500 BRL']\n",
    "\n",
    "prices = pd.concat([cdi_normalized, imab5_normalized, relative_prices['IBOV'], relative_prices['SP500 BRL']], keys=ativos, join='inner', axis=1)\n",
    "\n",
    "prices"
   ]
  },
  {
   "cell_type": "markdown",
   "metadata": {},
   "source": [
    "É possível notar que alguns ativos não encontram-se normalizados, por isso, é necessário garatir que todas as séries iniciem em 1 para ter uma base de comparação justa. Após normalizar o preço dos ativos, podemos visualizar seus retornos em um gráfico de linhas."
   ]
  },
  {
   "cell_type": "code",
   "execution_count": 12,
   "metadata": {},
   "outputs": [
    {
     "data": {
      "image/png": "[encoded data removed]",
      "text/plain": [
       "<Figure size 640x480 with 1 Axes>"
      ]
     },
     "metadata": {},
     "output_type": "display_data"
    }
   ],
   "source": [
    "prices = (prices / prices.iloc[0]).dropna()\n",
    "\n",
    "plt.plot(prices)\n",
    "plt.legend(prices.columns)\n",
    "plt.show()"
   ]
  },
  {
   "cell_type": "markdown",
   "metadata": {},
   "source": [
    "Desde 2004, em pouco mais de 20 anos, o ativo que melhor performou foi o IMA-B 5, que é índice de título públicos atrelados ao IPCA com duração de até 5 anos. Além de apresentar a maior rentabilidade no período, também é um ativo pouco volátil, o que representa uma excelente equilíbrio entre risco e retorno.\n",
    "\n",
    "Outro destaque é para a performance ruim do índie IBOVESPA, que apresentou um rentabilidade menor que a taxa livre de risco, o CDI."
   ]
  },
  {
   "cell_type": "markdown",
   "metadata": {},
   "source": [
    "#### Calculando o momentum dos ativos"
   ]
  },
  {
   "cell_type": "markdown",
   "metadata": {},
   "source": []
  }
 ],
 "metadata": {
  "kernelspec": {
   "display_name": "env",
   "language": "python",
   "name": "python3"
  },
  "language_info": {
   "codemirror_mode": {
    "name": "ipython",
    "version": 3
   },
   "file_extension": ".py",
   "mimetype": "text/x-python",
   "name": "python",
   "nbconvert_exporter": "python",
   "pygments_lexer": "ipython3",
   "version": "3.10.12"
  }
 },
 "nbformat": 4,
 "nbformat_minor": 2
}
