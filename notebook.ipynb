{
 "cells": [
  {
   "cell_type": "markdown",
   "metadata": {},
   "source": [
    "# Estratégia de Dual Momentum"
   ]
  },
  {
   "cell_type": "markdown",
   "metadata": {},
   "source": [
    "As estretégias de \"momentum\" em investimentos consistem na noção que ativos com retornos positivos tendem a se manter valorizando, enquanto ativos com retornos fraco ou negativos, tendem a continuar na mesma trajetória.\n",
    "\n",
    "No início das pesquisas academicas de finanças, a ideia de \"momentum\" não era bem aceita, pois imperavam noções muito estabelecidas, como a hipóstese do \"Mercado Eficiente\" e da imprevisibilidade de retornos futuros.\n",
    "\n",
    "No entanto, no início da década de 70, com os descobrimento do conceito de \"finanças comportamentais\" e de outros *fatores* que explicavam retornos, como valor e tamanho, as estratégias de momentum ganharam força."
   ]
  },
  {
   "cell_type": "markdown",
   "metadata": {},
   "source": [
    "### Objetivo"
   ]
  },
  {
   "cell_type": "markdown",
   "metadata": {},
   "source": [
    "O objetivo deste estudo é testar uma estratégia chamada de \"dual momentum\", que combina dois tipos de momentum *absolute momentum* e *relative momentum*. O momentum absoluto alterna entre classes de ativos distintas, por exemplo bolsa brasileira e título públicos, escolhendo a classe com maior força relativa. Já o momentum relativo, comparada dois ativos dentro da mesma classe, por exemplo bolsa brasileira e bolsa america. \n",
    "\n",
    "O resultado esperado é a construção de um portfolio que gere alpha em relação ao índice de referência, com menor volatilidade. A premissa do Dual Momentum é que é possível participar do mercado em momentos de bull market e evitar grandes perdas em longos momentos de bear market, investindo em ativos de renda fixa."
   ]
  },
  {
   "cell_type": "markdown",
   "metadata": {},
   "source": [
    "### Definição do Problema"
   ]
  },
  {
   "cell_type": "markdown",
   "metadata": {},
   "source": [
    "Para atingir os objetivos descritos, vamos selecionar o seguintes ativos:\n",
    "\n",
    "- IBOV (bolsa brasileira)\n",
    "- S&P 500 em BRL (bolsa americana em dólar)\n",
    "- IMA-B 5 (títulos públicos indexados ao IPCA com prazo de até 5 anos)\n",
    "- CDI (taxa livre de risco)\n",
    "\n",
    "A estratégia consiste em verificar qual ativo apresentou o maior retorno nos últimos 12 meses, investir nesse ativo, e rebalancear mensalmente. Para isso é necessário obter a série temporal do preço de fechamento diário desses ativos e fazer os processos necessário de processamento de dados para gerar os sinais e estimar a eficácia da estratégia. O nome de processo é **backtest**.\n",
    "\n",
    "Esse processo em si não representa um problema de *machine learning*. No entanto, um objetivo futuro é conseguir estimar a variância e a volatilidade dos ativos para equilibrar o portfolio e reduzuir grandes drawdowns, conhecidos na literatura como \"momentum crashes\". Nesse próximo passo,  "
   ]
  },
  {
   "cell_type": "code",
   "execution_count": 2,
   "metadata": {},
   "outputs": [],
   "source": [
    "\n",
    "import pandas as pd\n",
    "import numpy as np\n",
    "from datetime import datetime\n",
    "\n",
    "import matplotlib.pyplot as plt\n",
    "import seaborn as sns\n",
    "\n",
    "import yfinance as yf\n",
    "\n",
    "from utils.prices import historic_imab5, historic_sp500, historic_cdi\n",
    "\n",
    "STAR_DATE = '2004-01-01'\n",
    "END_DATE = datetime.today().strftime('%Y-%m-%d')"
   ]
  },
  {
   "cell_type": "markdown",
   "metadata": {},
   "source": [
    "#### Importando os dados"
   ]
  },
  {
   "cell_type": "code",
   "execution_count": 3,
   "metadata": {},
   "outputs": [],
   "source": [
    "IBOV = yf.Ticker('^BVSP')\n",
    "ibov_prices = IBOV.history(start=STAR_DATE, end=END_DATE)['Close']\n",
    "ibov_prices.index = pd.to_datetime(ibov_prices.index).date"
   ]
  },
  {
   "cell_type": "code",
   "execution_count": 5,
   "metadata": {},
   "outputs": [],
   "source": [
    "cdi = historic_cdi(start=STAR_DATE, end=END_DATE)\n",
    "imab5 = historic_imab5(start=STAR_DATE, end=END_DATE)"
   ]
  },
  {
   "cell_type": "code",
   "execution_count": 6,
   "metadata": {},
   "outputs": [],
   "source": [
    "sp500_prices = historic_sp500(start=STAR_DATE, end=END_DATE, brl=True)"
   ]
  },
  {
   "cell_type": "markdown",
   "metadata": {},
   "source": [
    "#### Obtendo os dias de negociação dos ativos de risco"
   ]
  },
  {
   "cell_type": "markdown",
   "metadata": {},
   "source": [
    "Esses dias serão utilizado para normalizar as demais séries temporais com objetivo de padronizar a janela de análise e tratar valores faltantes (NAs)."
   ]
  },
  {
   "cell_type": "code",
   "execution_count": 7,
   "metadata": {},
   "outputs": [
    {
     "data": {
      "text/html": [
       "<div>\n",
       "<style scoped>\n",
       "    .dataframe tbody tr th:only-of-type {\n",
       "        vertical-align: middle;\n",
       "    }\n",
       "\n",
       "    .dataframe tbody tr th {\n",
       "        vertical-align: top;\n",
       "    }\n",
       "\n",
       "    .dataframe thead th {\n",
       "        text-align: right;\n",
       "    }\n",
       "</style>\n",
       "<table border=\"1\" class=\"dataframe\">\n",
       "  <thead>\n",
       "    <tr style=\"text-align: right;\">\n",
       "      <th></th>\n",
       "      <th>Date</th>\n",
       "    </tr>\n",
       "  </thead>\n",
       "  <tbody>\n",
       "    <tr>\n",
       "      <th>5124</th>\n",
       "      <td>2024-09-11</td>\n",
       "    </tr>\n",
       "    <tr>\n",
       "      <th>5125</th>\n",
       "      <td>2024-09-12</td>\n",
       "    </tr>\n",
       "    <tr>\n",
       "      <th>5126</th>\n",
       "      <td>2024-09-13</td>\n",
       "    </tr>\n",
       "    <tr>\n",
       "      <th>5127</th>\n",
       "      <td>2024-09-16</td>\n",
       "    </tr>\n",
       "    <tr>\n",
       "      <th>5128</th>\n",
       "      <td>2024-09-17</td>\n",
       "    </tr>\n",
       "    <tr>\n",
       "      <th>5129</th>\n",
       "      <td>2024-09-18</td>\n",
       "    </tr>\n",
       "    <tr>\n",
       "      <th>5130</th>\n",
       "      <td>2024-09-19</td>\n",
       "    </tr>\n",
       "    <tr>\n",
       "      <th>5131</th>\n",
       "      <td>2024-09-20</td>\n",
       "    </tr>\n",
       "    <tr>\n",
       "      <th>5132</th>\n",
       "      <td>2024-09-23</td>\n",
       "    </tr>\n",
       "    <tr>\n",
       "      <th>5133</th>\n",
       "      <td>2024-09-24</td>\n",
       "    </tr>\n",
       "  </tbody>\n",
       "</table>\n",
       "</div>"
      ],
      "text/plain": [
       "            Date\n",
       "5124  2024-09-11\n",
       "5125  2024-09-12\n",
       "5126  2024-09-13\n",
       "5127  2024-09-16\n",
       "5128  2024-09-17\n",
       "5129  2024-09-18\n",
       "5130  2024-09-19\n",
       "5131  2024-09-20\n",
       "5132  2024-09-23\n",
       "5133  2024-09-24"
      ]
     },
     "execution_count": 7,
     "metadata": {},
     "output_type": "execute_result"
    }
   ],
   "source": [
    "trading_days = ibov_prices.index.to_frame(index=False, name='Date')\n",
    "\n",
    "trading_days.tail(10)"
   ]
  },
  {
   "cell_type": "markdown",
   "metadata": {},
   "source": [
    "#### Normalizando as séries temporais"
   ]
  },
  {
   "cell_type": "code",
   "execution_count": 8,
   "metadata": {},
   "outputs": [],
   "source": [
    "cdi_normalized = pd.merge(trading_days, cdi, left_on='Date', right_index=True, how='left').set_index('Date').squeeze()\n",
    "imab5_normalized = pd.merge(trading_days, imab5, left_on='Date', right_index=True, how='left').set_index('Date').squeeze()"
   ]
  },
  {
   "cell_type": "code",
   "execution_count": 9,
   "metadata": {},
   "outputs": [],
   "source": [
    "relative_prices = pd.merge(ibov_prices, sp500_prices, left_index=True, right_index=True, how='left').set_axis(['IBOV', 'SP500 BRL'], axis=1)\n",
    "relative_prices = relative_prices.set_axis(['IBOV', 'SP500 BRL'], axis=1)"
   ]
  },
  {
   "cell_type": "code",
   "execution_count": 10,
   "metadata": {},
   "outputs": [
    {
     "name": "stdout",
     "output_type": "stream",
     "text": [
      "IBOV\n",
      "False    5134\n",
      "Name: count, dtype: int64\n",
      "SP500 BRL\n",
      "False    5003\n",
      "True      131\n",
      "Name: count, dtype: int64\n"
     ]
    }
   ],
   "source": [
    "print(relative_prices['IBOV'].isna().value_counts())\n",
    "print(relative_prices['SP500 BRL'].isna().value_counts())"
   ]
  },
  {
   "cell_type": "markdown",
   "metadata": {},
   "source": [
    "Podemos observar que a série temporal de S&P 500 em reais possui 131 \"dias\" faltantes. Não é um número expressivo de NAs e pode ser explicado pela incompatibilidade de dias de negociação no Brasil e nos EUA, devido a feriados e outros casos.\n",
    "\n",
    "Para tratar esses valores faltantes podemos utilizar o métodos `ffill()` do Pandas. Esse método preenche o valor NA com o valor não-nulo anterior mais próximo. Esse tratamento é satisfatório pois não representará grandes impactos em nossas análise."
   ]
  },
  {
   "cell_type": "code",
   "execution_count": 11,
   "metadata": {},
   "outputs": [
    {
     "name": "stdout",
     "output_type": "stream",
     "text": [
      "SP500 BRL\n",
      "False    5134\n",
      "Name: count, dtype: int64\n"
     ]
    }
   ],
   "source": [
    "relative_prices['SP500 BRL'] = relative_prices['SP500 BRL'].ffill()\n",
    "\n",
    "print(relative_prices['SP500 BRL'].isna().value_counts())"
   ]
  },
  {
   "cell_type": "markdown",
   "metadata": {},
   "source": [
    "#### Tabela principal de preços"
   ]
  },
  {
   "cell_type": "code",
   "execution_count": 12,
   "metadata": {},
   "outputs": [
    {
     "data": {
      "text/html": [
       "<div>\n",
       "<style scoped>\n",
       "    .dataframe tbody tr th:only-of-type {\n",
       "        vertical-align: middle;\n",
       "    }\n",
       "\n",
       "    .dataframe tbody tr th {\n",
       "        vertical-align: top;\n",
       "    }\n",
       "\n",
       "    .dataframe thead th {\n",
       "        text-align: right;\n",
       "    }\n",
       "</style>\n",
       "<table border=\"1\" class=\"dataframe\">\n",
       "  <thead>\n",
       "    <tr style=\"text-align: right;\">\n",
       "      <th></th>\n",
       "      <th>CDI</th>\n",
       "      <th>IMA-B 5</th>\n",
       "      <th>IBOV</th>\n",
       "      <th>SP500 BRL</th>\n",
       "    </tr>\n",
       "  </thead>\n",
       "  <tbody>\n",
       "    <tr>\n",
       "      <th>2004-01-02</th>\n",
       "      <td>1.000000</td>\n",
       "      <td>1.000000</td>\n",
       "      <td>22445.0</td>\n",
       "      <td>3199.294920</td>\n",
       "    </tr>\n",
       "    <tr>\n",
       "      <th>2004-01-05</th>\n",
       "      <td>1.000601</td>\n",
       "      <td>1.000576</td>\n",
       "      <td>23532.0</td>\n",
       "      <td>3212.579110</td>\n",
       "    </tr>\n",
       "    <tr>\n",
       "      <th>2004-01-06</th>\n",
       "      <td>1.001202</td>\n",
       "      <td>1.001922</td>\n",
       "      <td>23576.0</td>\n",
       "      <td>3203.358561</td>\n",
       "    </tr>\n",
       "    <tr>\n",
       "      <th>2004-01-07</th>\n",
       "      <td>1.001803</td>\n",
       "      <td>1.003517</td>\n",
       "      <td>23320.0</td>\n",
       "      <td>3235.157533</td>\n",
       "    </tr>\n",
       "    <tr>\n",
       "      <th>2004-01-08</th>\n",
       "      <td>1.002405</td>\n",
       "      <td>1.007081</td>\n",
       "      <td>23717.0</td>\n",
       "      <td>3235.933022</td>\n",
       "    </tr>\n",
       "    <tr>\n",
       "      <th>...</th>\n",
       "      <td>...</td>\n",
       "      <td>...</td>\n",
       "      <td>...</td>\n",
       "      <td>...</td>\n",
       "    </tr>\n",
       "    <tr>\n",
       "      <th>2024-09-18</th>\n",
       "      <td>8.254216</td>\n",
       "      <td>11.320271</td>\n",
       "      <td>133748.0</td>\n",
       "      <td>30769.523258</td>\n",
       "    </tr>\n",
       "    <tr>\n",
       "      <th>2024-09-19</th>\n",
       "      <td>8.257531</td>\n",
       "      <td>11.283126</td>\n",
       "      <td>133123.0</td>\n",
       "      <td>30961.644537</td>\n",
       "    </tr>\n",
       "    <tr>\n",
       "      <th>2024-09-20</th>\n",
       "      <td>8.260848</td>\n",
       "      <td>11.262325</td>\n",
       "      <td>131065.0</td>\n",
       "      <td>31235.716555</td>\n",
       "    </tr>\n",
       "    <tr>\n",
       "      <th>2024-09-23</th>\n",
       "      <td>8.264166</td>\n",
       "      <td>11.266000</td>\n",
       "      <td>130568.0</td>\n",
       "      <td>31707.182247</td>\n",
       "    </tr>\n",
       "    <tr>\n",
       "      <th>2024-09-24</th>\n",
       "      <td>8.267486</td>\n",
       "      <td>11.297217</td>\n",
       "      <td>132156.0</td>\n",
       "      <td>31360.274648</td>\n",
       "    </tr>\n",
       "  </tbody>\n",
       "</table>\n",
       "<p>5134 rows × 4 columns</p>\n",
       "</div>"
      ],
      "text/plain": [
       "                 CDI    IMA-B 5      IBOV     SP500 BRL\n",
       "2004-01-02  1.000000   1.000000   22445.0   3199.294920\n",
       "2004-01-05  1.000601   1.000576   23532.0   3212.579110\n",
       "2004-01-06  1.001202   1.001922   23576.0   3203.358561\n",
       "2004-01-07  1.001803   1.003517   23320.0   3235.157533\n",
       "2004-01-08  1.002405   1.007081   23717.0   3235.933022\n",
       "...              ...        ...       ...           ...\n",
       "2024-09-18  8.254216  11.320271  133748.0  30769.523258\n",
       "2024-09-19  8.257531  11.283126  133123.0  30961.644537\n",
       "2024-09-20  8.260848  11.262325  131065.0  31235.716555\n",
       "2024-09-23  8.264166  11.266000  130568.0  31707.182247\n",
       "2024-09-24  8.267486  11.297217  132156.0  31360.274648\n",
       "\n",
       "[5134 rows x 4 columns]"
      ]
     },
     "execution_count": 12,
     "metadata": {},
     "output_type": "execute_result"
    }
   ],
   "source": [
    "ativos = ['CDI', 'IMA-B 5', 'IBOV', 'SP500 BRL']\n",
    "\n",
    "prices = pd.concat([cdi_normalized, imab5_normalized, relative_prices['IBOV'], relative_prices['SP500 BRL']], keys=ativos, join='inner', axis=1)\n",
    "\n",
    "prices"
   ]
  },
  {
   "cell_type": "markdown",
   "metadata": {},
   "source": [
    "É possível notar que alguns ativos não encontram-se normalizados, por isso, é necessário garatir que todas as séries iniciem em 1 para ter uma base de comparação justa. Após normalizar o preço dos ativos, podemos visualizar seus retornos em um gráfico de linhas."
   ]
  },
  {
   "cell_type": "code",
   "execution_count": 13,
   "metadata": {},
   "outputs": [
    {
     "data": {
      "image/png": "[encoded data removed]",
      "text/plain": [
       "<Figure size 640x480 with 1 Axes>"
      ]
     },
     "metadata": {},
     "output_type": "display_data"
    }
   ],
   "source": [
    "prices = (prices / prices.iloc[0]).dropna()\n",
    "\n",
    "plt.plot(prices)\n",
    "plt.legend(prices.columns)\n",
    "plt.show()"
   ]
  },
  {
   "cell_type": "markdown",
   "metadata": {},
   "source": [
    "Desde 2004, em pouco mais de 20 anos, o ativo que melhor performou foi o IMA-B 5, que é índice de título públicos atrelados ao IPCA com duração de até 5 anos. Além de apresentar a maior rentabilidade no período, também é um ativo pouco volátil, o que representa uma excelente equilíbrio entre risco e retorno.\n",
    "\n",
    "Outro destaque é para a performance ruim do índie IBOVESPA, que apresentou um rentabilidade menor que a taxa livre de risco, o CDI."
   ]
  },
  {
   "cell_type": "markdown",
   "metadata": {},
   "source": [
    "#### Calculando o momentum dos ativos (12M)"
   ]
  },
  {
   "cell_type": "markdown",
   "metadata": {},
   "source": [
    "Para calcular o momentum dos ativos, etapa fundamental para aplicar a estratégia, podemos seguir duas abordagens: i) calcular o retorno nos últimos 12 meses normalmente; ii) ou podemos excluir o último mês, calculando apenas o retorno dos 11 primeiros meses em cada janela de 12 meses.\n",
    "\n",
    "Isso é feito pois existem evidências na literatura, como [Jegadeesh e Titman (1993)](https://www.bauer.uh.edu/rsusmel/phd/jegadeesh-titman93.pdf), que monstram como estratégias de momentum que excluem o último mês geralmente superam aquelas que incluem todos os 12 meses. Isso ocorre porque estamos capturando a tendência sustentada dos retornos dos ativos, evitando os impactos negativos das reversões de curto prazo.\n",
    "\n",
    "A pesquisa científica em finanças comportamentais descobriu que os retornos de ativos, no curto prazo, podem ser explicados por movimentos de reversão, especialmente dentro do último mês.\n",
    "\n",
    "Portanto, para calcular o retorno dos últimos 12 meses, vamos utilizar a estratégia de não considerar os retornos do últimos mês."
   ]
  },
  {
   "cell_type": "code",
   "execution_count": 14,
   "metadata": {},
   "outputs": [
    {
     "data": {
      "text/html": [
       "<div>\n",
       "<style scoped>\n",
       "    .dataframe tbody tr th:only-of-type {\n",
       "        vertical-align: middle;\n",
       "    }\n",
       "\n",
       "    .dataframe tbody tr th {\n",
       "        vertical-align: top;\n",
       "    }\n",
       "\n",
       "    .dataframe thead th {\n",
       "        text-align: right;\n",
       "    }\n",
       "</style>\n",
       "<table border=\"1\" class=\"dataframe\">\n",
       "  <thead>\n",
       "    <tr style=\"text-align: right;\">\n",
       "      <th></th>\n",
       "      <th>CDI</th>\n",
       "      <th>IMA-B 5</th>\n",
       "      <th>IBOV</th>\n",
       "      <th>SP500 BRL</th>\n",
       "    </tr>\n",
       "  </thead>\n",
       "  <tbody>\n",
       "    <tr>\n",
       "      <th>2005-01-06</th>\n",
       "      <td>0.147682</td>\n",
       "      <td>0.160735</td>\n",
       "      <td>0.142036</td>\n",
       "      <td>0.011415</td>\n",
       "    </tr>\n",
       "    <tr>\n",
       "      <th>2005-01-07</th>\n",
       "      <td>0.147718</td>\n",
       "      <td>0.161035</td>\n",
       "      <td>0.061916</td>\n",
       "      <td>0.001062</td>\n",
       "    </tr>\n",
       "    <tr>\n",
       "      <th>2005-01-10</th>\n",
       "      <td>0.147753</td>\n",
       "      <td>0.160045</td>\n",
       "      <td>0.059043</td>\n",
       "      <td>0.021467</td>\n",
       "    </tr>\n",
       "    <tr>\n",
       "      <th>2005-01-11</th>\n",
       "      <td>0.147788</td>\n",
       "      <td>0.159137</td>\n",
       "      <td>0.051715</td>\n",
       "      <td>0.019866</td>\n",
       "    </tr>\n",
       "    <tr>\n",
       "      <th>2005-01-12</th>\n",
       "      <td>0.147824</td>\n",
       "      <td>0.155855</td>\n",
       "      <td>0.051271</td>\n",
       "      <td>0.023074</td>\n",
       "    </tr>\n",
       "    <tr>\n",
       "      <th>...</th>\n",
       "      <td>...</td>\n",
       "      <td>...</td>\n",
       "      <td>...</td>\n",
       "      <td>...</td>\n",
       "    </tr>\n",
       "    <tr>\n",
       "      <th>2024-09-18</th>\n",
       "      <td>0.103081</td>\n",
       "      <td>0.075773</td>\n",
       "      <td>0.145919</td>\n",
       "      <td>0.409008</td>\n",
       "    </tr>\n",
       "    <tr>\n",
       "      <th>2024-09-19</th>\n",
       "      <td>0.102973</td>\n",
       "      <td>0.076935</td>\n",
       "      <td>0.153659</td>\n",
       "      <td>0.422609</td>\n",
       "    </tr>\n",
       "    <tr>\n",
       "      <th>2024-09-20</th>\n",
       "      <td>0.102865</td>\n",
       "      <td>0.076677</td>\n",
       "      <td>0.147031</td>\n",
       "      <td>0.432860</td>\n",
       "    </tr>\n",
       "    <tr>\n",
       "      <th>2024-09-23</th>\n",
       "      <td>0.102758</td>\n",
       "      <td>0.078501</td>\n",
       "      <td>0.142491</td>\n",
       "      <td>0.458825</td>\n",
       "    </tr>\n",
       "    <tr>\n",
       "      <th>2024-09-24</th>\n",
       "      <td>0.102670</td>\n",
       "      <td>0.079654</td>\n",
       "      <td>0.178604</td>\n",
       "      <td>0.447177</td>\n",
       "    </tr>\n",
       "  </tbody>\n",
       "</table>\n",
       "<p>4882 rows × 4 columns</p>\n",
       "</div>"
      ],
      "text/plain": [
       "                 CDI   IMA-B 5      IBOV  SP500 BRL\n",
       "2005-01-06  0.147682  0.160735  0.142036   0.011415\n",
       "2005-01-07  0.147718  0.161035  0.061916   0.001062\n",
       "2005-01-10  0.147753  0.160045  0.059043   0.021467\n",
       "2005-01-11  0.147788  0.159137  0.051715   0.019866\n",
       "2005-01-12  0.147824  0.155855  0.051271   0.023074\n",
       "...              ...       ...       ...        ...\n",
       "2024-09-18  0.103081  0.075773  0.145919   0.409008\n",
       "2024-09-19  0.102973  0.076935  0.153659   0.422609\n",
       "2024-09-20  0.102865  0.076677  0.147031   0.432860\n",
       "2024-09-23  0.102758  0.078501  0.142491   0.458825\n",
       "2024-09-24  0.102670  0.079654  0.178604   0.447177\n",
       "\n",
       "[4882 rows x 4 columns]"
      ]
     },
     "execution_count": 14,
     "metadata": {},
     "output_type": "execute_result"
    }
   ],
   "source": [
    "shifted_prices = prices.shift(21)\n",
    "momentum_returns = shifted_prices.pct_change(periods=231).dropna()\n",
    "\n",
    "momentum_returns"
   ]
  },
  {
   "cell_type": "markdown",
   "metadata": {},
   "source": [
    "Em seguida, vamos identificar o retorno nos últimos 12 meses, na data do primeira dia de negociação de cada mês. Assim, podemos fazer o rebalanceamento mensal da estratégia considerando o momentum dos ativos."
   ]
  },
  {
   "cell_type": "code",
   "execution_count": 15,
   "metadata": {},
   "outputs": [
    {
     "data": {
      "text/html": [
       "<div>\n",
       "<style scoped>\n",
       "    .dataframe tbody tr th:only-of-type {\n",
       "        vertical-align: middle;\n",
       "    }\n",
       "\n",
       "    .dataframe tbody tr th {\n",
       "        vertical-align: top;\n",
       "    }\n",
       "\n",
       "    .dataframe thead th {\n",
       "        text-align: right;\n",
       "    }\n",
       "</style>\n",
       "<table border=\"1\" class=\"dataframe\">\n",
       "  <thead>\n",
       "    <tr style=\"text-align: right;\">\n",
       "      <th></th>\n",
       "      <th>CDI</th>\n",
       "      <th>IMA-B 5</th>\n",
       "      <th>IBOV</th>\n",
       "      <th>SP500 BRL</th>\n",
       "    </tr>\n",
       "  </thead>\n",
       "  <tbody>\n",
       "    <tr>\n",
       "      <th>2005-01-06</th>\n",
       "      <td>0.147682</td>\n",
       "      <td>0.160735</td>\n",
       "      <td>0.142036</td>\n",
       "      <td>0.011415</td>\n",
       "    </tr>\n",
       "    <tr>\n",
       "      <th>2005-02-01</th>\n",
       "      <td>0.149233</td>\n",
       "      <td>0.144729</td>\n",
       "      <td>0.081318</td>\n",
       "      <td>-0.015058</td>\n",
       "    </tr>\n",
       "    <tr>\n",
       "      <th>2005-03-01</th>\n",
       "      <td>0.151854</td>\n",
       "      <td>0.145800</td>\n",
       "      <td>0.126213</td>\n",
       "      <td>-0.084480</td>\n",
       "    </tr>\n",
       "    <tr>\n",
       "      <th>2005-04-01</th>\n",
       "      <td>0.153784</td>\n",
       "      <td>0.125474</td>\n",
       "      <td>0.342857</td>\n",
       "      <td>-0.019450</td>\n",
       "    </tr>\n",
       "    <tr>\n",
       "      <th>2005-05-02</th>\n",
       "      <td>0.156111</td>\n",
       "      <td>0.124055</td>\n",
       "      <td>0.247937</td>\n",
       "      <td>-0.046931</td>\n",
       "    </tr>\n",
       "    <tr>\n",
       "      <th>...</th>\n",
       "      <td>...</td>\n",
       "      <td>...</td>\n",
       "      <td>...</td>\n",
       "      <td>...</td>\n",
       "    </tr>\n",
       "    <tr>\n",
       "      <th>2024-05-02</th>\n",
       "      <td>0.114742</td>\n",
       "      <td>0.085056</td>\n",
       "      <td>0.239266</td>\n",
       "      <td>0.267039</td>\n",
       "    </tr>\n",
       "    <tr>\n",
       "      <th>2024-06-03</th>\n",
       "      <td>0.112259</td>\n",
       "      <td>0.079970</td>\n",
       "      <td>0.152167</td>\n",
       "      <td>0.229911</td>\n",
       "    </tr>\n",
       "    <tr>\n",
       "      <th>2024-07-01</th>\n",
       "      <td>0.109741</td>\n",
       "      <td>0.080151</td>\n",
       "      <td>0.038929</td>\n",
       "      <td>0.318906</td>\n",
       "    </tr>\n",
       "    <tr>\n",
       "      <th>2024-08-01</th>\n",
       "      <td>0.106807</td>\n",
       "      <td>0.072969</td>\n",
       "      <td>0.045554</td>\n",
       "      <td>0.428546</td>\n",
       "    </tr>\n",
       "    <tr>\n",
       "      <th>2024-09-02</th>\n",
       "      <td>0.104374</td>\n",
       "      <td>0.078078</td>\n",
       "      <td>0.062920</td>\n",
       "      <td>0.400112</td>\n",
       "    </tr>\n",
       "  </tbody>\n",
       "</table>\n",
       "<p>237 rows × 4 columns</p>\n",
       "</div>"
      ],
      "text/plain": [
       "                 CDI   IMA-B 5      IBOV  SP500 BRL\n",
       "2005-01-06  0.147682  0.160735  0.142036   0.011415\n",
       "2005-02-01  0.149233  0.144729  0.081318  -0.015058\n",
       "2005-03-01  0.151854  0.145800  0.126213  -0.084480\n",
       "2005-04-01  0.153784  0.125474  0.342857  -0.019450\n",
       "2005-05-02  0.156111  0.124055  0.247937  -0.046931\n",
       "...              ...       ...       ...        ...\n",
       "2024-05-02  0.114742  0.085056  0.239266   0.267039\n",
       "2024-06-03  0.112259  0.079970  0.152167   0.229911\n",
       "2024-07-01  0.109741  0.080151  0.038929   0.318906\n",
       "2024-08-01  0.106807  0.072969  0.045554   0.428546\n",
       "2024-09-02  0.104374  0.078078  0.062920   0.400112\n",
       "\n",
       "[237 rows x 4 columns]"
      ]
     },
     "execution_count": 15,
     "metadata": {},
     "output_type": "execute_result"
    }
   ],
   "source": [
    "time_series = pd.to_datetime(momentum_returns.index).to_series()\n",
    "first_trading_day = time_series.groupby(time_series.index.to_period('M')).apply(lambda x: x == x.min())\n",
    "\n",
    "momentum_returns.loc[first_trading_day.values]"
   ]
  },
  {
   "cell_type": "code",
   "execution_count": 16,
   "metadata": {},
   "outputs": [
    {
     "data": {
      "text/html": [
       "<div>\n",
       "<style scoped>\n",
       "    .dataframe tbody tr th:only-of-type {\n",
       "        vertical-align: middle;\n",
       "    }\n",
       "\n",
       "    .dataframe tbody tr th {\n",
       "        vertical-align: top;\n",
       "    }\n",
       "\n",
       "    .dataframe thead th {\n",
       "        text-align: right;\n",
       "    }\n",
       "</style>\n",
       "<table border=\"1\" class=\"dataframe\">\n",
       "  <thead>\n",
       "    <tr style=\"text-align: right;\">\n",
       "      <th></th>\n",
       "      <th>CDI</th>\n",
       "      <th>IMA-B 5</th>\n",
       "      <th>IBOV</th>\n",
       "      <th>SP500 BRL</th>\n",
       "      <th>Investment</th>\n",
       "    </tr>\n",
       "  </thead>\n",
       "  <tbody>\n",
       "    <tr>\n",
       "      <th>2005-01-06</th>\n",
       "      <td>0.147682</td>\n",
       "      <td>0.160735</td>\n",
       "      <td>0.142036</td>\n",
       "      <td>0.011415</td>\n",
       "      <td>IMA-B 5</td>\n",
       "    </tr>\n",
       "    <tr>\n",
       "      <th>2005-01-07</th>\n",
       "      <td>0.147718</td>\n",
       "      <td>0.161035</td>\n",
       "      <td>0.061916</td>\n",
       "      <td>0.001062</td>\n",
       "      <td>IMA-B 5</td>\n",
       "    </tr>\n",
       "    <tr>\n",
       "      <th>2005-01-10</th>\n",
       "      <td>0.147753</td>\n",
       "      <td>0.160045</td>\n",
       "      <td>0.059043</td>\n",
       "      <td>0.021467</td>\n",
       "      <td>IMA-B 5</td>\n",
       "    </tr>\n",
       "    <tr>\n",
       "      <th>2005-01-11</th>\n",
       "      <td>0.147788</td>\n",
       "      <td>0.159137</td>\n",
       "      <td>0.051715</td>\n",
       "      <td>0.019866</td>\n",
       "      <td>IMA-B 5</td>\n",
       "    </tr>\n",
       "    <tr>\n",
       "      <th>2005-01-12</th>\n",
       "      <td>0.147824</td>\n",
       "      <td>0.155855</td>\n",
       "      <td>0.051271</td>\n",
       "      <td>0.023074</td>\n",
       "      <td>IMA-B 5</td>\n",
       "    </tr>\n",
       "    <tr>\n",
       "      <th>...</th>\n",
       "      <td>...</td>\n",
       "      <td>...</td>\n",
       "      <td>...</td>\n",
       "      <td>...</td>\n",
       "      <td>...</td>\n",
       "    </tr>\n",
       "    <tr>\n",
       "      <th>2024-09-18</th>\n",
       "      <td>0.103081</td>\n",
       "      <td>0.075773</td>\n",
       "      <td>0.145919</td>\n",
       "      <td>0.409008</td>\n",
       "      <td>IMA-B 5</td>\n",
       "    </tr>\n",
       "    <tr>\n",
       "      <th>2024-09-19</th>\n",
       "      <td>0.102973</td>\n",
       "      <td>0.076935</td>\n",
       "      <td>0.153659</td>\n",
       "      <td>0.422609</td>\n",
       "      <td>IMA-B 5</td>\n",
       "    </tr>\n",
       "    <tr>\n",
       "      <th>2024-09-20</th>\n",
       "      <td>0.102865</td>\n",
       "      <td>0.076677</td>\n",
       "      <td>0.147031</td>\n",
       "      <td>0.432860</td>\n",
       "      <td>IMA-B 5</td>\n",
       "    </tr>\n",
       "    <tr>\n",
       "      <th>2024-09-23</th>\n",
       "      <td>0.102758</td>\n",
       "      <td>0.078501</td>\n",
       "      <td>0.142491</td>\n",
       "      <td>0.458825</td>\n",
       "      <td>IMA-B 5</td>\n",
       "    </tr>\n",
       "    <tr>\n",
       "      <th>2024-09-24</th>\n",
       "      <td>0.102670</td>\n",
       "      <td>0.079654</td>\n",
       "      <td>0.178604</td>\n",
       "      <td>0.447177</td>\n",
       "      <td>IMA-B 5</td>\n",
       "    </tr>\n",
       "  </tbody>\n",
       "</table>\n",
       "<p>4882 rows × 5 columns</p>\n",
       "</div>"
      ],
      "text/plain": [
       "                 CDI   IMA-B 5      IBOV  SP500 BRL Investment\n",
       "2005-01-06  0.147682  0.160735  0.142036   0.011415    IMA-B 5\n",
       "2005-01-07  0.147718  0.161035  0.061916   0.001062    IMA-B 5\n",
       "2005-01-10  0.147753  0.160045  0.059043   0.021467    IMA-B 5\n",
       "2005-01-11  0.147788  0.159137  0.051715   0.019866    IMA-B 5\n",
       "2005-01-12  0.147824  0.155855  0.051271   0.023074    IMA-B 5\n",
       "...              ...       ...       ...        ...        ...\n",
       "2024-09-18  0.103081  0.075773  0.145919   0.409008    IMA-B 5\n",
       "2024-09-19  0.102973  0.076935  0.153659   0.422609    IMA-B 5\n",
       "2024-09-20  0.102865  0.076677  0.147031   0.432860    IMA-B 5\n",
       "2024-09-23  0.102758  0.078501  0.142491   0.458825    IMA-B 5\n",
       "2024-09-24  0.102670  0.079654  0.178604   0.447177    IMA-B 5\n",
       "\n",
       "[4882 rows x 5 columns]"
      ]
     },
     "execution_count": 16,
     "metadata": {},
     "output_type": "execute_result"
    }
   ],
   "source": [
    "conditions = [\n",
    "    first_trading_day.values & (momentum_returns['IBOV'] > momentum_returns['CDI']) & (momentum_returns['IBOV'] > momentum_returns['SP500 BRL']),\n",
    "    first_trading_day.values & (momentum_returns['IBOV'] > momentum_returns['CDI']) & (momentum_returns['IBOV'] <= momentum_returns['SP500 BRL']),\n",
    "    first_trading_day.values & (momentum_returns['IBOV'] <= momentum_returns['CDI']),\n",
    "]\n",
    "\n",
    "cases = ['IBOV', 'SP500 BRL', 'IMA-B 5']\n",
    "\n",
    "momentum_returns['Investment'] = np.select(conditions, cases, default=None)\n",
    "momentum_returns['Investment'] = momentum_returns['Investment'].ffill()\n",
    "\n",
    "momentum_returns"
   ]
  },
  {
   "cell_type": "markdown",
   "metadata": {},
   "source": [
    "O código acima implementa a lógica da estratégia de selecionar o ativo com maior força relativa nos últimos 12 meses, considerando as respectivas classes de ativos, ativos de risco e títulos públicos.\n",
    "\n",
    "Analisando os dados que obtivemos, podemos fazer uma simples contagem de cada categoria na coluna 'Investment', para então fazer a proporção de dias investidos em cada ativo.\n",
    "\n",
    "Seguindo a estratégia descrita, nosso portofolio ficou aproximadamene 50% dos dias investidos em IMA-B 5, 35% em IBOV e apenas 10% das vezes em S&P500."
   ]
  },
  {
   "cell_type": "code",
   "execution_count": 19,
   "metadata": {},
   "outputs": [
    {
     "data": {
      "text/plain": [
       "Investment\n",
       "IMA-B 5      0.53\n",
       "IBOV         0.36\n",
       "SP500 BRL    0.11\n",
       "Name: proportion, dtype: float64"
      ]
     },
     "execution_count": 19,
     "metadata": {},
     "output_type": "execute_result"
    }
   ],
   "source": [
    "momentum_returns['Investment'].value_counts(normalize=True).round(2)"
   ]
  },
  {
   "cell_type": "markdown",
   "metadata": {},
   "source": [
    "#### Calculando o retorno da estratégia"
   ]
  },
  {
   "cell_type": "code",
   "execution_count": 21,
   "metadata": {},
   "outputs": [
    {
     "data": {
      "text/html": [
       "<div>\n",
       "<style scoped>\n",
       "    .dataframe tbody tr th:only-of-type {\n",
       "        vertical-align: middle;\n",
       "    }\n",
       "\n",
       "    .dataframe tbody tr th {\n",
       "        vertical-align: top;\n",
       "    }\n",
       "\n",
       "    .dataframe thead th {\n",
       "        text-align: right;\n",
       "    }\n",
       "</style>\n",
       "<table border=\"1\" class=\"dataframe\">\n",
       "  <thead>\n",
       "    <tr style=\"text-align: right;\">\n",
       "      <th></th>\n",
       "      <th>CDI</th>\n",
       "      <th>IMA-B 5</th>\n",
       "      <th>IBOV</th>\n",
       "      <th>SP500 BRL</th>\n",
       "      <th>Dual Momentum</th>\n",
       "    </tr>\n",
       "  </thead>\n",
       "  <tbody>\n",
       "    <tr>\n",
       "      <th>2005-01-06</th>\n",
       "      <td>0.000648</td>\n",
       "      <td>0.000196</td>\n",
       "      <td>-0.013162</td>\n",
       "      <td>0.007617</td>\n",
       "      <td>0.000196</td>\n",
       "    </tr>\n",
       "    <tr>\n",
       "      <th>2005-01-07</th>\n",
       "      <td>0.000648</td>\n",
       "      <td>0.000042</td>\n",
       "      <td>0.015595</td>\n",
       "      <td>-0.007854</td>\n",
       "      <td>0.000042</td>\n",
       "    </tr>\n",
       "    <tr>\n",
       "      <th>2005-01-10</th>\n",
       "      <td>0.000648</td>\n",
       "      <td>0.000424</td>\n",
       "      <td>-0.018386</td>\n",
       "      <td>0.001233</td>\n",
       "      <td>0.000424</td>\n",
       "    </tr>\n",
       "    <tr>\n",
       "      <th>2005-01-11</th>\n",
       "      <td>0.000648</td>\n",
       "      <td>0.000588</td>\n",
       "      <td>0.003211</td>\n",
       "      <td>-0.001199</td>\n",
       "      <td>0.000588</td>\n",
       "    </tr>\n",
       "    <tr>\n",
       "      <th>2005-01-12</th>\n",
       "      <td>0.000648</td>\n",
       "      <td>0.000511</td>\n",
       "      <td>0.005745</td>\n",
       "      <td>0.004241</td>\n",
       "      <td>0.000511</td>\n",
       "    </tr>\n",
       "    <tr>\n",
       "      <th>...</th>\n",
       "      <td>...</td>\n",
       "      <td>...</td>\n",
       "      <td>...</td>\n",
       "      <td>...</td>\n",
       "      <td>...</td>\n",
       "    </tr>\n",
       "    <tr>\n",
       "      <th>2024-09-18</th>\n",
       "      <td>0.000393</td>\n",
       "      <td>0.000998</td>\n",
       "      <td>-0.008980</td>\n",
       "      <td>-0.007301</td>\n",
       "      <td>0.000998</td>\n",
       "    </tr>\n",
       "    <tr>\n",
       "      <th>2024-09-19</th>\n",
       "      <td>0.000402</td>\n",
       "      <td>-0.003281</td>\n",
       "      <td>-0.004673</td>\n",
       "      <td>0.006244</td>\n",
       "      <td>-0.003281</td>\n",
       "    </tr>\n",
       "    <tr>\n",
       "      <th>2024-09-20</th>\n",
       "      <td>0.000402</td>\n",
       "      <td>-0.001844</td>\n",
       "      <td>-0.015459</td>\n",
       "      <td>0.008852</td>\n",
       "      <td>-0.001844</td>\n",
       "    </tr>\n",
       "    <tr>\n",
       "      <th>2024-09-23</th>\n",
       "      <td>0.000402</td>\n",
       "      <td>0.000326</td>\n",
       "      <td>-0.003792</td>\n",
       "      <td>0.015094</td>\n",
       "      <td>0.000326</td>\n",
       "    </tr>\n",
       "    <tr>\n",
       "      <th>2024-09-24</th>\n",
       "      <td>0.000402</td>\n",
       "      <td>0.002771</td>\n",
       "      <td>0.012162</td>\n",
       "      <td>-0.010941</td>\n",
       "      <td>0.002771</td>\n",
       "    </tr>\n",
       "  </tbody>\n",
       "</table>\n",
       "<p>4882 rows × 5 columns</p>\n",
       "</div>"
      ],
      "text/plain": [
       "                 CDI   IMA-B 5      IBOV  SP500 BRL  Dual Momentum\n",
       "2005-01-06  0.000648  0.000196 -0.013162   0.007617       0.000196\n",
       "2005-01-07  0.000648  0.000042  0.015595  -0.007854       0.000042\n",
       "2005-01-10  0.000648  0.000424 -0.018386   0.001233       0.000424\n",
       "2005-01-11  0.000648  0.000588  0.003211  -0.001199       0.000588\n",
       "2005-01-12  0.000648  0.000511  0.005745   0.004241       0.000511\n",
       "...              ...       ...       ...        ...            ...\n",
       "2024-09-18  0.000393  0.000998 -0.008980  -0.007301       0.000998\n",
       "2024-09-19  0.000402 -0.003281 -0.004673   0.006244      -0.003281\n",
       "2024-09-20  0.000402 -0.001844 -0.015459   0.008852      -0.001844\n",
       "2024-09-23  0.000402  0.000326 -0.003792   0.015094       0.000326\n",
       "2024-09-24  0.000402  0.002771  0.012162  -0.010941       0.002771\n",
       "\n",
       "[4882 rows x 5 columns]"
      ]
     },
     "execution_count": 21,
     "metadata": {},
     "output_type": "execute_result"
    }
   ],
   "source": [
    "dual_momentum = prices.pct_change().join(momentum_returns[['Investment']], how='right')\n",
    "\n",
    "dual_momentum['Dual Momentum'] = dual_momentum.apply(lambda row: row[row['Investment']], axis=1)\n",
    "dual_momentum = dual_momentum.drop(columns=['Investment'])\n",
    "\n",
    "dual_momentum"
   ]
  },
  {
   "cell_type": "code",
   "execution_count": 22,
   "metadata": {},
   "outputs": [
    {
     "data": {
      "text/html": [
       "<div>\n",
       "<style scoped>\n",
       "    .dataframe tbody tr th:only-of-type {\n",
       "        vertical-align: middle;\n",
       "    }\n",
       "\n",
       "    .dataframe tbody tr th {\n",
       "        vertical-align: top;\n",
       "    }\n",
       "\n",
       "    .dataframe thead th {\n",
       "        text-align: right;\n",
       "    }\n",
       "</style>\n",
       "<table border=\"1\" class=\"dataframe\">\n",
       "  <thead>\n",
       "    <tr style=\"text-align: right;\">\n",
       "      <th></th>\n",
       "      <th>CDI</th>\n",
       "      <th>IMA-B 5</th>\n",
       "      <th>IBOV</th>\n",
       "      <th>SP500 BRL</th>\n",
       "      <th>Dual Momentum</th>\n",
       "    </tr>\n",
       "  </thead>\n",
       "  <tbody>\n",
       "    <tr>\n",
       "      <th>2005-01-06</th>\n",
       "      <td>0.000000</td>\n",
       "      <td>0.000000</td>\n",
       "      <td>0.000000</td>\n",
       "      <td>0.000000</td>\n",
       "      <td>0.000000</td>\n",
       "    </tr>\n",
       "    <tr>\n",
       "      <th>2005-01-07</th>\n",
       "      <td>0.000648</td>\n",
       "      <td>0.000042</td>\n",
       "      <td>0.015595</td>\n",
       "      <td>-0.007854</td>\n",
       "      <td>0.000042</td>\n",
       "    </tr>\n",
       "    <tr>\n",
       "      <th>2005-01-10</th>\n",
       "      <td>0.001297</td>\n",
       "      <td>0.000466</td>\n",
       "      <td>-0.003078</td>\n",
       "      <td>-0.006631</td>\n",
       "      <td>0.000466</td>\n",
       "    </tr>\n",
       "    <tr>\n",
       "      <th>2005-01-11</th>\n",
       "      <td>0.001946</td>\n",
       "      <td>0.001055</td>\n",
       "      <td>0.000123</td>\n",
       "      <td>-0.007822</td>\n",
       "      <td>0.001055</td>\n",
       "    </tr>\n",
       "    <tr>\n",
       "      <th>2005-01-12</th>\n",
       "      <td>0.002596</td>\n",
       "      <td>0.001567</td>\n",
       "      <td>0.005869</td>\n",
       "      <td>-0.003614</td>\n",
       "      <td>0.001567</td>\n",
       "    </tr>\n",
       "    <tr>\n",
       "      <th>...</th>\n",
       "      <td>...</td>\n",
       "      <td>...</td>\n",
       "      <td>...</td>\n",
       "      <td>...</td>\n",
       "      <td>...</td>\n",
       "    </tr>\n",
       "    <tr>\n",
       "      <th>2024-09-18</th>\n",
       "      <td>6.086499</td>\n",
       "      <td>8.615334</td>\n",
       "      <td>4.488899</td>\n",
       "      <td>8.520590</td>\n",
       "      <td>14.290611</td>\n",
       "    </tr>\n",
       "    <tr>\n",
       "      <th>2024-09-19</th>\n",
       "      <td>6.089346</td>\n",
       "      <td>8.583783</td>\n",
       "      <td>4.463249</td>\n",
       "      <td>8.580036</td>\n",
       "      <td>14.240437</td>\n",
       "    </tr>\n",
       "    <tr>\n",
       "      <th>2024-09-20</th>\n",
       "      <td>6.092193</td>\n",
       "      <td>8.566115</td>\n",
       "      <td>4.378791</td>\n",
       "      <td>8.664838</td>\n",
       "      <td>14.212341</td>\n",
       "    </tr>\n",
       "    <tr>\n",
       "      <th>2024-09-23</th>\n",
       "      <td>6.095042</td>\n",
       "      <td>8.569236</td>\n",
       "      <td>4.358395</td>\n",
       "      <td>8.810717</td>\n",
       "      <td>14.217305</td>\n",
       "    </tr>\n",
       "    <tr>\n",
       "      <th>2024-09-24</th>\n",
       "      <td>6.097892</td>\n",
       "      <td>8.595752</td>\n",
       "      <td>4.423565</td>\n",
       "      <td>8.703378</td>\n",
       "      <td>14.259472</td>\n",
       "    </tr>\n",
       "  </tbody>\n",
       "</table>\n",
       "<p>4882 rows × 5 columns</p>\n",
       "</div>"
      ],
      "text/plain": [
       "                 CDI   IMA-B 5      IBOV  SP500 BRL  Dual Momentum\n",
       "2005-01-06  0.000000  0.000000  0.000000   0.000000       0.000000\n",
       "2005-01-07  0.000648  0.000042  0.015595  -0.007854       0.000042\n",
       "2005-01-10  0.001297  0.000466 -0.003078  -0.006631       0.000466\n",
       "2005-01-11  0.001946  0.001055  0.000123  -0.007822       0.001055\n",
       "2005-01-12  0.002596  0.001567  0.005869  -0.003614       0.001567\n",
       "...              ...       ...       ...        ...            ...\n",
       "2024-09-18  6.086499  8.615334  4.488899   8.520590      14.290611\n",
       "2024-09-19  6.089346  8.583783  4.463249   8.580036      14.240437\n",
       "2024-09-20  6.092193  8.566115  4.378791   8.664838      14.212341\n",
       "2024-09-23  6.095042  8.569236  4.358395   8.810717      14.217305\n",
       "2024-09-24  6.097892  8.595752  4.423565   8.703378      14.259472\n",
       "\n",
       "[4882 rows x 5 columns]"
      ]
     },
     "execution_count": 22,
     "metadata": {},
     "output_type": "execute_result"
    }
   ],
   "source": [
    "dual_momentum_eval = (1 + dual_momentum).cumprod()\n",
    "dual_momentum_eval = (dual_momentum_eval / dual_momentum_eval.iloc[0]) - 1\n",
    "\n",
    "dual_momentum_eval"
   ]
  },
  {
   "cell_type": "code",
   "execution_count": 23,
   "metadata": {},
   "outputs": [
    {
     "data": {
      "image/png": "[encoded data removed]",
      "text/plain": [
       "<Figure size 640x480 with 1 Axes>"
      ]
     },
     "metadata": {},
     "output_type": "display_data"
    }
   ],
   "source": [
    "plt.plot(dual_momentum_eval)\n",
    "plt.legend(dual_momentum_eval.columns)\n",
    "plt.show()"
   ]
  },
  {
   "cell_type": "markdown",
   "metadata": {},
   "source": [
    "#### Criando um portfolio naive como benchmark"
   ]
  },
  {
   "cell_type": "markdown",
   "metadata": {},
   "source": [
    "Uma forma eficiente de confirmar a eficácia da estratégia, para além de verificar se a estratégia superou os ativos individualmente, é criando um benchmark. Para o benchmark, podemos criar um portfolio naive, ou \"ingênuo\", que investe nos três ativos da estratégia com pesos iguais.\n",
    "\n",
    "Ou seja, sem trabalho nenhum, qualquer investidor poderia montar uma carteira de pesos iguais. A premissa de qualquer estratégia mais sofisticada é superar esse portfolio naive."
   ]
  },
  {
   "cell_type": "code",
   "execution_count": 24,
   "metadata": {},
   "outputs": [
    {
     "data": {
      "text/plain": [
       "2005-01-06    0.000000\n",
       "2005-01-07    0.002594\n",
       "2005-01-10   -0.003081\n",
       "2005-01-11   -0.002215\n",
       "2005-01-12    0.001274\n",
       "                ...   \n",
       "2024-09-18    7.208274\n",
       "2024-09-19    7.209023\n",
       "2024-09-20    7.203248\n",
       "2024-09-23    7.246116\n",
       "2024-09-24    7.240898\n",
       "Name: Naive Portfolio, Length: 4882, dtype: float64"
      ]
     },
     "execution_count": 24,
     "metadata": {},
     "output_type": "execute_result"
    }
   ],
   "source": [
    "naive_portfolio = dual_momentum_eval[['IBOV', 'SP500 BRL', 'IMA-B 5']].mean(axis=1).rename('Naive Portfolio')\n",
    "naive_portfolio.index = pd.to_datetime(naive_portfolio.index).date\n",
    "\n",
    "naive_portfolio"
   ]
  },
  {
   "cell_type": "markdown",
   "metadata": {},
   "source": [
    "#### Avaliação da estratégia"
   ]
  },
  {
   "cell_type": "code",
   "execution_count": 33,
   "metadata": {},
   "outputs": [
    {
     "data": {
      "text/html": [
       "<div>\n",
       "<style scoped>\n",
       "    .dataframe tbody tr th:only-of-type {\n",
       "        vertical-align: middle;\n",
       "    }\n",
       "\n",
       "    .dataframe tbody tr th {\n",
       "        vertical-align: top;\n",
       "    }\n",
       "\n",
       "    .dataframe thead th {\n",
       "        text-align: right;\n",
       "    }\n",
       "</style>\n",
       "<table border=\"1\" class=\"dataframe\">\n",
       "  <thead>\n",
       "    <tr style=\"text-align: right;\">\n",
       "      <th></th>\n",
       "      <th>CDI</th>\n",
       "      <th>Naive Portfolio</th>\n",
       "      <th>Dual Momentum</th>\n",
       "    </tr>\n",
       "  </thead>\n",
       "  <tbody>\n",
       "    <tr>\n",
       "      <th>2005-01-06</th>\n",
       "      <td>0.000000</td>\n",
       "      <td>0.000000</td>\n",
       "      <td>0.000000</td>\n",
       "    </tr>\n",
       "    <tr>\n",
       "      <th>2005-01-07</th>\n",
       "      <td>0.000648</td>\n",
       "      <td>0.002594</td>\n",
       "      <td>0.000042</td>\n",
       "    </tr>\n",
       "    <tr>\n",
       "      <th>2005-01-10</th>\n",
       "      <td>0.001297</td>\n",
       "      <td>-0.003081</td>\n",
       "      <td>0.000466</td>\n",
       "    </tr>\n",
       "    <tr>\n",
       "      <th>2005-01-11</th>\n",
       "      <td>0.001946</td>\n",
       "      <td>-0.002215</td>\n",
       "      <td>0.001055</td>\n",
       "    </tr>\n",
       "    <tr>\n",
       "      <th>2005-01-12</th>\n",
       "      <td>0.002596</td>\n",
       "      <td>0.001274</td>\n",
       "      <td>0.001567</td>\n",
       "    </tr>\n",
       "    <tr>\n",
       "      <th>...</th>\n",
       "      <td>...</td>\n",
       "      <td>...</td>\n",
       "      <td>...</td>\n",
       "    </tr>\n",
       "    <tr>\n",
       "      <th>2024-09-18</th>\n",
       "      <td>6.086499</td>\n",
       "      <td>7.208274</td>\n",
       "      <td>14.290611</td>\n",
       "    </tr>\n",
       "    <tr>\n",
       "      <th>2024-09-19</th>\n",
       "      <td>6.089346</td>\n",
       "      <td>7.209023</td>\n",
       "      <td>14.240437</td>\n",
       "    </tr>\n",
       "    <tr>\n",
       "      <th>2024-09-20</th>\n",
       "      <td>6.092193</td>\n",
       "      <td>7.203248</td>\n",
       "      <td>14.212341</td>\n",
       "    </tr>\n",
       "    <tr>\n",
       "      <th>2024-09-23</th>\n",
       "      <td>6.095042</td>\n",
       "      <td>7.246116</td>\n",
       "      <td>14.217305</td>\n",
       "    </tr>\n",
       "    <tr>\n",
       "      <th>2024-09-24</th>\n",
       "      <td>6.097892</td>\n",
       "      <td>7.240898</td>\n",
       "      <td>14.259472</td>\n",
       "    </tr>\n",
       "  </tbody>\n",
       "</table>\n",
       "<p>4882 rows × 3 columns</p>\n",
       "</div>"
      ],
      "text/plain": [
       "                 CDI  Naive Portfolio  Dual Momentum\n",
       "2005-01-06  0.000000         0.000000       0.000000\n",
       "2005-01-07  0.000648         0.002594       0.000042\n",
       "2005-01-10  0.001297        -0.003081       0.000466\n",
       "2005-01-11  0.001946        -0.002215       0.001055\n",
       "2005-01-12  0.002596         0.001274       0.001567\n",
       "...              ...              ...            ...\n",
       "2024-09-18  6.086499         7.208274      14.290611\n",
       "2024-09-19  6.089346         7.209023      14.240437\n",
       "2024-09-20  6.092193         7.203248      14.212341\n",
       "2024-09-23  6.095042         7.246116      14.217305\n",
       "2024-09-24  6.097892         7.240898      14.259472\n",
       "\n",
       "[4882 rows x 3 columns]"
      ]
     },
     "execution_count": 33,
     "metadata": {},
     "output_type": "execute_result"
    }
   ],
   "source": [
    "benchmark = pd.concat(\n",
    "    [dual_momentum_eval['CDI'], naive_portfolio, dual_momentum_eval['Dual Momentum']],\n",
    "    keys=['CDI', 'Naive Portfolio', 'Dual Momentum'], \n",
    "    join='inner', \n",
    "    axis=1\n",
    ")\n",
    "\n",
    "benchmark"
   ]
  },
  {
   "cell_type": "code",
   "execution_count": 27,
   "metadata": {},
   "outputs": [
    {
     "data": {
      "image/png": "[encoded data removed]",
      "text/plain": [
       "<Figure size 640x480 with 1 Axes>"
      ]
     },
     "metadata": {},
     "output_type": "display_data"
    }
   ],
   "source": [
    "plt.plot(benchmark)\n",
    "plt.legend(benchmark.columns)\n",
    "plt.show()"
   ]
  },
  {
   "cell_type": "code",
   "execution_count": 34,
   "metadata": {},
   "outputs": [],
   "source": [
    "benchmark = benchmark + 1\n",
    "\n",
    "series_start = benchmark.index.min()\n",
    "series_end = benchmark.index.max()\n",
    "\n",
    "years = (series_end - series_start).days / 365\n",
    "\n",
    "benchmark_cagr = (benchmark.iloc[-1] / (benchmark.iloc[0])) ** (1 / years) - 1\n",
    "benchmark_vol = benchmark.pct_change().std() * (252 ** 0.5)"
   ]
  },
  {
   "cell_type": "code",
   "execution_count": 35,
   "metadata": {},
   "outputs": [
    {
     "data": {
      "text/html": [
       "<div>\n",
       "<style scoped>\n",
       "    .dataframe tbody tr th:only-of-type {\n",
       "        vertical-align: middle;\n",
       "    }\n",
       "\n",
       "    .dataframe tbody tr th {\n",
       "        vertical-align: top;\n",
       "    }\n",
       "\n",
       "    .dataframe thead th {\n",
       "        text-align: right;\n",
       "    }\n",
       "</style>\n",
       "<table border=\"1\" class=\"dataframe\">\n",
       "  <thead>\n",
       "    <tr style=\"text-align: right;\">\n",
       "      <th></th>\n",
       "      <th>CAGR</th>\n",
       "      <th>Volatility</th>\n",
       "      <th>Sharpe Ratio</th>\n",
       "    </tr>\n",
       "  </thead>\n",
       "  <tbody>\n",
       "    <tr>\n",
       "      <th>CDI</th>\n",
       "      <td>0.104439</td>\n",
       "      <td>0.002379</td>\n",
       "      <td>1.865669</td>\n",
       "    </tr>\n",
       "    <tr>\n",
       "      <th>Naive Portfolio</th>\n",
       "      <td>0.112829</td>\n",
       "      <td>0.123819</td>\n",
       "      <td>0.103610</td>\n",
       "    </tr>\n",
       "    <tr>\n",
       "      <th>Dual Momentum</th>\n",
       "      <td>0.148129</td>\n",
       "      <td>0.168361</td>\n",
       "      <td>0.285866</td>\n",
       "    </tr>\n",
       "  </tbody>\n",
       "</table>\n",
       "</div>"
      ],
      "text/plain": [
       "                     CAGR  Volatility  Sharpe Ratio\n",
       "CDI              0.104439    0.002379      1.865669\n",
       "Naive Portfolio  0.112829    0.123819      0.103610\n",
       "Dual Momentum    0.148129    0.168361      0.285866"
      ]
     },
     "execution_count": 35,
     "metadata": {},
     "output_type": "execute_result"
    }
   ],
   "source": [
    "results = pd.concat([benchmark_cagr, benchmark_vol], keys=['CAGR', 'Volatility'], axis=1)\n",
    "results['Sharpe Ratio'] = (results['CAGR'] - 0.10) / results['Volatility']\n",
    "\n",
    "results"
   ]
  },
  {
   "cell_type": "markdown",
   "metadata": {},
   "source": [
    "Observando as métricas risco (volatilidade) e retorno (CAGR) utilizadas, podemos perceber que o a estratégia demonstrou superar o portfolio equal-weights, apresentando um retorno superior, 14.8% a.a, com uma volatilidade também maior. \n",
    "\n",
    "No entanto, apesar da volatilidate ser maior, o Sharpe Ratio, que mede o retorno obtido para cada unidade de risco tomado, foi maior, o que representa uma melhor relação de risco e retorno.\n",
    "\n",
    "Nessa análise, mantive o CDI como comparação por ser taxa livre de risco, no entanto, o a carteira de Dual Momentum se comportou muito mais como um ativo de risco, do que um ativo de renda fixa, por conta da volatilidade. Portando, vamos analisar essa carteira em comparação com os outros ativos de risco (S&P 500 e IBOV)."
   ]
  },
  {
   "cell_type": "code",
   "execution_count": 36,
   "metadata": {},
   "outputs": [],
   "source": [
    "ativos_risco = pd.concat(\n",
    "    [dual_momentum_eval['IBOV'], dual_momentum_eval['SP500 BRL'], dual_momentum_eval['Dual Momentum']],\n",
    "    keys=['IBOV', 'SP500 BRL', 'Dual Momentum'], \n",
    "    join='inner', \n",
    "    axis=1\n",
    ")"
   ]
  },
  {
   "cell_type": "code",
   "execution_count": 37,
   "metadata": {},
   "outputs": [],
   "source": [
    "ativos_risco = ativos_risco + 1\n",
    "\n",
    "series_start = ativos_risco.index.min()\n",
    "series_end = ativos_risco.index.max()\n",
    "\n",
    "years = (series_end - series_start).days / 365\n",
    "\n",
    "ativos_risco_cagr = (ativos_risco.iloc[-1] / (ativos_risco.iloc[0])) ** (1 / years) - 1\n",
    "ativos_risco_vol = ativos_risco.pct_change().std() * (252 ** 0.5)"
   ]
  },
  {
   "cell_type": "code",
   "execution_count": 38,
   "metadata": {},
   "outputs": [
    {
     "data": {
      "text/html": [
       "<div>\n",
       "<style scoped>\n",
       "    .dataframe tbody tr th:only-of-type {\n",
       "        vertical-align: middle;\n",
       "    }\n",
       "\n",
       "    .dataframe tbody tr th {\n",
       "        vertical-align: top;\n",
       "    }\n",
       "\n",
       "    .dataframe thead th {\n",
       "        text-align: right;\n",
       "    }\n",
       "</style>\n",
       "<table border=\"1\" class=\"dataframe\">\n",
       "  <thead>\n",
       "    <tr style=\"text-align: right;\">\n",
       "      <th></th>\n",
       "      <th>CAGR</th>\n",
       "      <th>Volatility</th>\n",
       "      <th>Sharpe Ratio</th>\n",
       "    </tr>\n",
       "  </thead>\n",
       "  <tbody>\n",
       "    <tr>\n",
       "      <th>IBOV</th>\n",
       "      <td>0.089479</td>\n",
       "      <td>0.266020</td>\n",
       "      <td>-0.039549</td>\n",
       "    </tr>\n",
       "    <tr>\n",
       "      <th>SP500 BRL</th>\n",
       "      <td>0.122082</td>\n",
       "      <td>0.209145</td>\n",
       "      <td>0.105582</td>\n",
       "    </tr>\n",
       "    <tr>\n",
       "      <th>Dual Momentum</th>\n",
       "      <td>0.148129</td>\n",
       "      <td>0.168361</td>\n",
       "      <td>0.285866</td>\n",
       "    </tr>\n",
       "  </tbody>\n",
       "</table>\n",
       "</div>"
      ],
      "text/plain": [
       "                   CAGR  Volatility  Sharpe Ratio\n",
       "IBOV           0.089479    0.266020     -0.039549\n",
       "SP500 BRL      0.122082    0.209145      0.105582\n",
       "Dual Momentum  0.148129    0.168361      0.285866"
      ]
     },
     "execution_count": 38,
     "metadata": {},
     "output_type": "execute_result"
    }
   ],
   "source": [
    "results_ativos_risco = pd.concat([ativos_risco_cagr, ativos_risco_vol], keys=['CAGR', 'Volatility'], axis=1)\n",
    "results_ativos_risco['Sharpe Ratio'] = (results_ativos_risco['CAGR'] - 0.10) / results_ativos_risco['Volatility']\n",
    "\n",
    "results_ativos_risco"
   ]
  },
  {
   "cell_type": "markdown",
   "metadata": {},
   "source": [
    "Apesar da estratégia de Dual Momentum ser uma estratégia volátil, comparada aos outros ativos de risco, apresentou menor volatilidade e melhor retorno.\n",
    "\n",
    "Essa volatilidade da estratégia é conhecida como **Momentum Crashes**, que corresponde a correções abruptas e severas em ativos que estavam performando muito bem. Um exemplo notável é 2020, quando houve a pandemia do COVID-19 e os mercados no mundo todos sofreram grandes quedas nos ativos de risco.\n",
    "\n",
    "Esses eventos são amplamente estudados pela literatura, que busca desenvolver formas de mitigar esses efeitos, o que pode ser tema de um próximo trabalho que aborde técnicas de machine learning aplicadas a séries temporais"
   ]
  },
  {
   "cell_type": "markdown",
   "metadata": {},
   "source": [
    "Outro estudo interessante é o de drawdown, que corresponde as variações negativas dos ativos. Entender o risco da estratégia também está ligado a ciência desses drawdowns e sua duração."
   ]
  },
  {
   "cell_type": "code",
   "execution_count": 39,
   "metadata": {},
   "outputs": [
    {
     "data": {
      "text/html": [
       "<div>\n",
       "<style scoped>\n",
       "    .dataframe tbody tr th:only-of-type {\n",
       "        vertical-align: middle;\n",
       "    }\n",
       "\n",
       "    .dataframe tbody tr th {\n",
       "        vertical-align: top;\n",
       "    }\n",
       "\n",
       "    .dataframe thead th {\n",
       "        text-align: right;\n",
       "    }\n",
       "</style>\n",
       "<table border=\"1\" class=\"dataframe\">\n",
       "  <thead>\n",
       "    <tr style=\"text-align: right;\">\n",
       "      <th></th>\n",
       "      <th>IBOV</th>\n",
       "      <th>SP500 BRL</th>\n",
       "      <th>Dual Momentum</th>\n",
       "    </tr>\n",
       "  </thead>\n",
       "  <tbody>\n",
       "    <tr>\n",
       "      <th>2005-01-06</th>\n",
       "      <td>0.000000</td>\n",
       "      <td>0.000000</td>\n",
       "      <td>0.000000</td>\n",
       "    </tr>\n",
       "    <tr>\n",
       "      <th>2005-01-07</th>\n",
       "      <td>0.000000</td>\n",
       "      <td>-0.007854</td>\n",
       "      <td>0.000000</td>\n",
       "    </tr>\n",
       "    <tr>\n",
       "      <th>2005-01-10</th>\n",
       "      <td>-0.018386</td>\n",
       "      <td>-0.006631</td>\n",
       "      <td>0.000000</td>\n",
       "    </tr>\n",
       "    <tr>\n",
       "      <th>2005-01-11</th>\n",
       "      <td>-0.015234</td>\n",
       "      <td>-0.007822</td>\n",
       "      <td>0.000000</td>\n",
       "    </tr>\n",
       "    <tr>\n",
       "      <th>2005-01-12</th>\n",
       "      <td>-0.009577</td>\n",
       "      <td>-0.003614</td>\n",
       "      <td>0.000000</td>\n",
       "    </tr>\n",
       "    <tr>\n",
       "      <th>...</th>\n",
       "      <td>...</td>\n",
       "      <td>...</td>\n",
       "      <td>...</td>\n",
       "    </tr>\n",
       "    <tr>\n",
       "      <th>2024-09-18</th>\n",
       "      <td>-0.026182</td>\n",
       "      <td>-0.036902</td>\n",
       "      <td>0.000000</td>\n",
       "    </tr>\n",
       "    <tr>\n",
       "      <th>2024-09-19</th>\n",
       "      <td>-0.030733</td>\n",
       "      <td>-0.030888</td>\n",
       "      <td>-0.003281</td>\n",
       "    </tr>\n",
       "    <tr>\n",
       "      <th>2024-09-20</th>\n",
       "      <td>-0.045717</td>\n",
       "      <td>-0.022310</td>\n",
       "      <td>-0.005119</td>\n",
       "    </tr>\n",
       "    <tr>\n",
       "      <th>2024-09-23</th>\n",
       "      <td>-0.049336</td>\n",
       "      <td>-0.007553</td>\n",
       "      <td>-0.004794</td>\n",
       "    </tr>\n",
       "    <tr>\n",
       "      <th>2024-09-24</th>\n",
       "      <td>-0.037774</td>\n",
       "      <td>-0.018411</td>\n",
       "      <td>-0.002036</td>\n",
       "    </tr>\n",
       "  </tbody>\n",
       "</table>\n",
       "<p>4882 rows × 3 columns</p>\n",
       "</div>"
      ],
      "text/plain": [
       "                IBOV  SP500 BRL  Dual Momentum\n",
       "2005-01-06  0.000000   0.000000       0.000000\n",
       "2005-01-07  0.000000  -0.007854       0.000000\n",
       "2005-01-10 -0.018386  -0.006631       0.000000\n",
       "2005-01-11 -0.015234  -0.007822       0.000000\n",
       "2005-01-12 -0.009577  -0.003614       0.000000\n",
       "...              ...        ...            ...\n",
       "2024-09-18 -0.026182  -0.036902       0.000000\n",
       "2024-09-19 -0.030733  -0.030888      -0.003281\n",
       "2024-09-20 -0.045717  -0.022310      -0.005119\n",
       "2024-09-23 -0.049336  -0.007553      -0.004794\n",
       "2024-09-24 -0.037774  -0.018411      -0.002036\n",
       "\n",
       "[4882 rows x 3 columns]"
      ]
     },
     "execution_count": 39,
     "metadata": {},
     "output_type": "execute_result"
    }
   ],
   "source": [
    "cum_returns = (1 + dual_momentum[['IBOV', 'SP500 BRL', 'Dual Momentum']]).cumprod()\n",
    "cum_max = cum_returns.cummax()\n",
    "\n",
    "drawdown = (cum_returns - cum_max) / cum_max\n",
    "\n",
    "drawdown"
   ]
  },
  {
   "cell_type": "code",
   "execution_count": 44,
   "metadata": {},
   "outputs": [
    {
     "name": "stdout",
     "output_type": "stream",
     "text": [
      "IBOV -60.0%\n",
      "SP500 BRL -52.0%\n",
      "Dual Momentum -33.0%\n"
     ]
    }
   ],
   "source": [
    "for col in drawdown.columns:\n",
    "    print(f\"{col} {round(min(drawdown[col]), 2) * 100}%\")"
   ]
  },
  {
   "cell_type": "code",
   "execution_count": 49,
   "metadata": {},
   "outputs": [
    {
     "data": {
      "image/png": "[encoded data removed]",
      "text/plain": [
       "<Figure size 640x480 with 1 Axes>"
      ]
     },
     "metadata": {},
     "output_type": "display_data"
    }
   ],
   "source": [
    "for col in drawdown.columns:\n",
    "    plt.fill_between(x=drawdown.index, y1=drawdown[col], alpha=0.5, label=col)\n",
    "\n",
    "plt.legend()\n",
    "plt.show()"
   ]
  },
  {
   "cell_type": "code",
   "execution_count": 62,
   "metadata": {},
   "outputs": [
    {
     "name": "stdout",
     "output_type": "stream",
     "text": [
      "\n",
      "\n",
      "IBOV\n",
      "Duração média: 23 dias\n",
      "Duração máxima: 2304 dias (apróx. 6.3 anos)\n",
      "\n",
      "\n",
      "SP500 BRL\n",
      "Duração média: 20 dias\n",
      "Duração máxima: 2017 dias (apróx. 5.5 anos)\n",
      "\n",
      "\n",
      "Dual Momentum\n",
      "Duração média: 8 dias\n",
      "Duração máxima: 403 dias (apróx. 1.1 anos)\n"
     ]
    }
   ],
   "source": [
    "for col in drawdown.columns:    \n",
    "    drawdown_shifts = (drawdown[col] < 0).ne((drawdown[col] < 0).shift()).cumsum()\n",
    "    drawdown_durations = (drawdown[col] < 0).groupby(drawdown_shifts).size()\n",
    "\n",
    "    print('\\n')\n",
    "    print(col)\n",
    "    print(f\"Duração média: {round(drawdown_durations.mean())} dias\")\n",
    "    print(f\"Duração máxima: {drawdown_durations.max()} dias (apróx. {round(drawdown_durations.max() / 365, 1)} anos)\")"
   ]
  },
  {
   "cell_type": "markdown",
   "metadata": {},
   "source": [
    "Analisando os drawdowns, observamos que, mesmo havendo o problema de **Momentum Crashes** a estratégia apresentou drawdowns menores (menos profundos) e mais curtos.\n",
    "\n",
    "A duração máxima do drawdown é muito importante pois significa que, no caso do IBOV, um investidor que teve o azar de investir do ativo em determinado dia ao longo desses anos, ficou mais de 6 anos vendo seu investimento \"negativo\" e apenas pode recuperar seu investimento após esse período. Isso sem contar o custo de oportunidade, pois durante esse período ele poderia estar investindo no CDI, sem nenhum risco, ou seja, esse investidor teve um prejuízo enorme."
   ]
  },
  {
   "cell_type": "markdown",
   "metadata": {},
   "source": [
    "### Conclusões Finais"
   ]
  },
  {
   "cell_type": "markdown",
   "metadata": {},
   "source": [
    "A estratégia de Dual Momentum se mostrou bastante eficiente, pois apresentou um excelente retorno (14 a.a) nos últimos 20 anos, com uma volatilidade menor do que outros ativos de risco, como S&P500 e o IBOV. Apesar do excelente retorno, a estratégia tem alguns \"problemas\":\n",
    "\n",
    "1. É uma estratégia simples, mas que exige muita disciplina do investidor, principalmente em momentos de grande volatilidade, pois apesar dela eviar que o investidor participe de longo \"bear markets\", também há o que chamamos de *tracking error*, ou seja, em períodos curtos de tempo ela pode underperformar os ativos de risco.\n",
    "\n",
    "2. Como observamos no backteste, a estratégia sofre de um problema conhecido como **Momentum Crashes** o que faz dela uma estratégia bastate volátil em certo períodos, que pode causar prejuízos, caso o investidor não tenha disciplina de se manter fiel a estratégia. "
   ]
  }
 ],
 "metadata": {
  "kernelspec": {
   "display_name": "env",
   "language": "python",
   "name": "python3"
  },
  "language_info": {
   "codemirror_mode": {
    "name": "ipython",
    "version": 3
   },
   "file_extension": ".py",
   "mimetype": "text/x-python",
   "name": "python",
   "nbconvert_exporter": "python",
   "pygments_lexer": "ipython3",
   "version": "3.10.12"
  }
 },
 "nbformat": 4,
 "nbformat_minor": 2
}
